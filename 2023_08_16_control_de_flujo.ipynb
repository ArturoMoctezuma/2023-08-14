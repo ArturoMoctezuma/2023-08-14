{
  "cells": [
    {
      "cell_type": "markdown",
      "metadata": {
        "id": "7qPYnvT_DI5V"
      },
      "source": [
        "Control de flujo\n",
        "================\n",
        "\n",
        "**Date:** 2022-02-03\n",
        "\n"
      ]
    },
    {
      "cell_type": "markdown",
      "metadata": {
        "id": "QGrwGdNLDI5Z"
      },
      "source": [
        "## Control de flujo\n",
        "\n"
      ]
    },
    {
      "cell_type": "markdown",
      "metadata": {
        "id": "a9QVyXvMDI5b"
      },
      "source": [
        "### `if`\n",
        "\n"
      ]
    },
    {
      "cell_type": "code",
      "execution_count": 1,
      "metadata": {
        "colab": {
          "base_uri": "https://localhost:8080/"
        },
        "id": "sRsy6eQWDI5b",
        "outputId": "f1fa615e-95b4-43f7-f398-f068c899ad74"
      },
      "outputs": [
        {
          "output_type": "execute_result",
          "data": {
            "text/plain": [
              "['Arturo', 'Sonia', 'Diana', 'Maria', 'Raul', 'Uriel', 'Ruth']"
            ]
          },
          "metadata": {},
          "execution_count": 1
        }
      ],
      "source": [
        "inscritos = [\"Arturo\", \"Sonia\", \"Diana\", \"Maria\", \"Raul\"]\n",
        "oyentes = [\"Uriel\", \"Ruth\"]\n",
        "estudiantes = inscritos + oyentes\n",
        "estudiantes"
      ]
    },
    {
      "cell_type": "code",
      "execution_count": 4,
      "metadata": {
        "colab": {
          "base_uri": "https://localhost:8080/"
        },
        "id": "By4mWm8QDI5d",
        "outputId": "9a903585-e1bd-4b2e-d9a7-77e68c785c59"
      },
      "outputs": [
        {
          "output_type": "stream",
          "name": "stdout",
          "text": [
            "Son muchos estudiantes\n"
          ]
        }
      ],
      "source": [
        "if len(estudiantes) > 5:\n",
        "    print(\"Son muchos estudiantes\")"
      ]
    },
    {
      "cell_type": "code",
      "execution_count": 8,
      "metadata": {
        "colab": {
          "base_uri": "https://localhost:8080/"
        },
        "id": "e9-rspBIDI5e",
        "outputId": "da4a855f-3756-48dd-8e0b-ee4daa78508a"
      },
      "outputs": [
        {
          "output_type": "stream",
          "name": "stdout",
          "text": [
            "Son pocos estudiantes. Ojalá entren oyentes\n"
          ]
        }
      ],
      "source": [
        "if len(estudiantes) > 10:\n",
        "    print(\"Son muchos estudiantes\")\n",
        "else:\n",
        "    print(\"Son pocos estudiantes\", end=\". \")\n",
        "    print(\"Ojalá entren oyentes\")"
      ]
    },
    {
      "cell_type": "code",
      "execution_count": 9,
      "metadata": {
        "colab": {
          "base_uri": "https://localhost:8080/"
        },
        "id": "Dh5UN9rfDI54",
        "outputId": "b3bd3e34-213d-4826-fc8e-30fcdc357a44"
      },
      "outputs": [
        {
          "output_type": "stream",
          "name": "stdout",
          "text": [
            "Son cuando mucho cinco estudiantes\n"
          ]
        }
      ],
      "source": [
        "if len(inscritos) <= 5:\n",
        "    print(\"Son cuando mucho cinco estudiantes\")\n",
        "elif len(inscritos) == 6:\n",
        "    print(\"Son seis estudiantes\")\n",
        "else:\n",
        "    print(\"Son muchos estudiantes\", end=\". \")\n",
        "    print(\"Ojalá no entren oyentes\")"
      ]
    },
    {
      "cell_type": "markdown",
      "metadata": {
        "id": "uhYGCGy7DI54"
      },
      "source": [
        "### `for`\n",
        "\n"
      ]
    },
    {
      "cell_type": "code",
      "execution_count": 10,
      "metadata": {
        "colab": {
          "base_uri": "https://localhost:8080/"
        },
        "id": "0MA9WS6WDI54",
        "outputId": "583d7c03-ef9f-435c-c424-0fccbcae1ced"
      },
      "outputs": [
        {
          "output_type": "stream",
          "name": "stdout",
          "text": [
            "Hola Arturo ¿Cómo estás?\n",
            "Hola Sonia ¿Cómo estás?\n",
            "Hola Diana ¿Cómo estás?\n",
            "Hola Maria ¿Cómo estás?\n",
            "Hola Raul ¿Cómo estás?\n",
            "Hola Uriel ¿Cómo estás?\n",
            "Hola Ruth ¿Cómo estás?\n"
          ]
        }
      ],
      "source": [
        "for estudiante in estudiantes:\n",
        "    print(\"Hola\", estudiante, \"¿Cómo estás?\")"
      ]
    },
    {
      "cell_type": "code",
      "execution_count": 11,
      "metadata": {
        "colab": {
          "base_uri": "https://localhost:8080/"
        },
        "id": "BYsC8IK5DI54",
        "outputId": "dc683056-3cb3-4bd8-9d03-9d73933284eb"
      },
      "outputs": [
        {
          "output_type": "stream",
          "name": "stdout",
          "text": [
            "Hola Arturo\n",
            "Hola Sonia\n",
            "Hola Diana\n",
            "Hola Maria\n",
            "Hola Raul\n",
            "Hola Uriel\n",
            "Hola Ruth\n"
          ]
        }
      ],
      "source": [
        "for i in range(len(estudiantes)):\n",
        "    print(\"Hola\", estudiantes[i])"
      ]
    },
    {
      "cell_type": "code",
      "execution_count": 30,
      "metadata": {
        "colab": {
          "base_uri": "https://localhost:8080/"
        },
        "id": "FvQ4NgFtDI54",
        "outputId": "2a3e752a-5d74-47f3-bd1a-65f02d99d269"
      },
      "outputs": [
        {
          "output_type": "stream",
          "name": "stdout",
          "text": [
            "5\n",
            "4\n",
            "3\n",
            "2\n",
            "1\n",
            "0\n",
            "Booom\n"
          ]
        }
      ],
      "source": [
        "for j in range(5, -1, -1):\n",
        "    print(j)\n",
        "    if j == 0:\n",
        "        print(\"Booom\")"
      ]
    },
    {
      "cell_type": "code",
      "source": [
        "list(range(7))\n"
      ],
      "metadata": {
        "colab": {
          "base_uri": "https://localhost:8080/"
        },
        "id": "57ritCTRG9Ve",
        "outputId": "2808120a-04d2-4f3d-987d-23411aba8de2"
      },
      "execution_count": 35,
      "outputs": [
        {
          "output_type": "execute_result",
          "data": {
            "text/plain": [
              "[0, 1, 2, 3, 4, 5, 6]"
            ]
          },
          "metadata": {},
          "execution_count": 35
        }
      ]
    },
    {
      "cell_type": "markdown",
      "source": [
        "range puede tener 3 valores\n",
        "el primero es donde empieza\n",
        "el segubdo es donde termina(uno antes de terminar)\n",
        "el tercero son los pasos en los que avanza"
      ],
      "metadata": {
        "id": "kQfUBpAiHp-N"
      }
    },
    {
      "cell_type": "code",
      "execution_count": 39,
      "metadata": {
        "colab": {
          "base_uri": "https://localhost:8080/"
        },
        "id": "Wdl-CeE3DI55",
        "outputId": "675af2ec-73ea-4944-f049-ac5dd569778e"
      },
      "outputs": [
        {
          "output_type": "execute_result",
          "data": {
            "text/plain": [
              "range(0, 7897987978979779878979797987987979779797979)"
            ]
          },
          "metadata": {},
          "execution_count": 39
        }
      ],
      "source": [
        "range(7897987978979779878979797987987979779797979)"
      ]
    },
    {
      "cell_type": "markdown",
      "metadata": {
        "id": "7_N3G7__DI55"
      },
      "source": [
        "La suma de todos los números del 1 al 100.\n",
        "\n"
      ]
    },
    {
      "cell_type": "code",
      "execution_count": 41,
      "metadata": {
        "colab": {
          "base_uri": "https://localhost:8080/"
        },
        "id": "hhxDwHwVDI55",
        "outputId": "edc2b31c-52f1-4cea-bab0-21afd61de336"
      },
      "outputs": [
        {
          "output_type": "execute_result",
          "data": {
            "text/plain": [
              "5050"
            ]
          },
          "metadata": {},
          "execution_count": 41
        }
      ],
      "source": [
        "sum(range(101))"
      ]
    },
    {
      "cell_type": "markdown",
      "metadata": {
        "id": "bVt3vMjPDI55"
      },
      "source": [
        "### break, continue y else en ciclos for\n",
        "\n"
      ]
    },
    {
      "cell_type": "markdown",
      "metadata": {
        "id": "mGpeDwuiDI55"
      },
      "source": [
        "#### break\n",
        "\n"
      ]
    },
    {
      "cell_type": "markdown",
      "metadata": {
        "id": "FI6GE_TnDI55"
      },
      "source": [
        "`break` sirve para interrumpir un ciclo for.\n",
        "\n"
      ]
    },
    {
      "cell_type": "code",
      "execution_count": 43,
      "metadata": {
        "colab": {
          "base_uri": "https://localhost:8080/"
        },
        "id": "Y-CKjMqVDI55",
        "outputId": "bc381c75-98de-4f76-d861-611e6daabb20"
      },
      "outputs": [
        {
          "output_type": "stream",
          "name": "stdout",
          "text": [
            "Hola Arturo ¿Cómo estás?\n",
            "Hola Sonia ¿Cómo estás?\n",
            "Hola Diana ¿Cómo estás?\n",
            "Ya saludé a los inscritos\n"
          ]
        }
      ],
      "source": [
        "for estudiante in estudiantes:\n",
        "    print(\"Hola\", estudiante, \"¿Cómo estás?\")\n",
        "    if estudiante == \"Diana\":\n",
        "        break\n",
        "\n",
        "print(\"Ya saludé a los inscritos\")"
      ]
    },
    {
      "cell_type": "markdown",
      "metadata": {
        "id": "egN5sqm9DI55"
      },
      "source": [
        "#### else en un ciclo for\n",
        "\n"
      ]
    },
    {
      "cell_type": "markdown",
      "metadata": {
        "id": "VnjGMjwUDI55"
      },
      "source": [
        "La cláusula `else` en un ciclo `for` se ejecuta cuando el ciclo `for` termina de manera \"natural\", sin haber pasado por una cláusula `break`.\n",
        "\n"
      ]
    },
    {
      "cell_type": "code",
      "execution_count": 44,
      "metadata": {
        "colab": {
          "base_uri": "https://localhost:8080/"
        },
        "id": "tPrSlZs9DI56",
        "outputId": "5ee8ea1a-c9a2-463b-e705-16135643b091"
      },
      "outputs": [
        {
          "output_type": "stream",
          "name": "stdout",
          "text": [
            "2 es un número primo\n",
            "3 es un número primo\n",
            "4 es igual a 2 * 2\n",
            "5 es un número primo\n",
            "6 es igual a 2 * 3\n",
            "7 es un número primo\n",
            "8 es igual a 2 * 4\n",
            "9 es igual a 3 * 3\n"
          ]
        }
      ],
      "source": [
        "for n in range(2, 10):\n",
        "    for x in range(2, n):\n",
        "        if n % x == 0:\n",
        "            print(n, 'es igual a', x, '*', n//x)\n",
        "            break\n",
        "    else:\n",
        "        # se terminó de checar posibles divisores sin encontrar uno\n",
        "        print(n, 'es un número primo')"
      ]
    },
    {
      "cell_type": "markdown",
      "metadata": {
        "id": "8pEvBhsFDI56"
      },
      "source": [
        "#### continue\n",
        "\n"
      ]
    },
    {
      "cell_type": "markdown",
      "source": [
        "permite parar un bucle"
      ],
      "metadata": {
        "id": "ri0pnCAcMAES"
      }
    },
    {
      "cell_type": "code",
      "execution_count": 46,
      "metadata": {
        "colab": {
          "base_uri": "https://localhost:8080/"
        },
        "id": "vlbYgcK_DI56",
        "outputId": "a5a44fdb-8252-4487-ed3f-610feaa3f6ab"
      },
      "outputs": [
        {
          "output_type": "stream",
          "name": "stdout",
          "text": [
            "Hola Arturo ¿Cómo estás?\n",
            "¿Qué materias estás llevando, Arturo ?\n",
            "Hola Sonia ¿Cómo estás?\n",
            "¿Qué materias estás llevando, Sonia ?\n",
            "Hola Diana ¿Cómo estás?\n",
            "¿Qué materias estás llevando, Diana ?\n",
            "Hola Maria ¿Cómo estás?\n",
            "¿Qué materias estás llevando, Maria ?\n",
            "Hola Raul ¿Cómo estás?\n",
            "¿Qué materias estás llevando, Raul ?\n",
            "Hola Uriel ¿Cómo estás?\n"
          ]
        }
      ],
      "source": [
        "for estudiante in estudiantes:\n",
        "    print(\"Hola\", estudiante, \"¿Cómo estás?\")\n",
        "    if estudiante in [\"Uriel\", \"Ruth\"]:\n",
        "        break\n",
        "    print(\"¿Qué materias estás llevando,\", estudiante,\"?\")"
      ]
    },
    {
      "cell_type": "markdown",
      "metadata": {
        "id": "nbwURVyUDI56"
      },
      "source": [
        "#### pass\n",
        "\n"
      ]
    },
    {
      "cell_type": "markdown",
      "metadata": {
        "id": "sTgPflkYDI56"
      },
      "source": [
        "La claúsula `pass` no hace nada, pero puede servir para que un programa incompleto sea sintácticamente correcto.\n",
        "\n"
      ]
    },
    {
      "cell_type": "code",
      "execution_count": 50,
      "metadata": {
        "colab": {
          "base_uri": "https://localhost:8080/"
        },
        "id": "sFj2qPe8DI56",
        "outputId": "cf39f644-a5f5-45dd-a33d-cce887f1a8d8"
      },
      "outputs": [
        {
          "output_type": "stream",
          "name": "stdout",
          "text": [
            "Hola Arturo ¿Cómo estás?\n",
            "Hola Sonia ¿Cómo estás?\n",
            "Hola Diana ¿Cómo estás?\n",
            "Hola Maria ¿Cómo estás?\n",
            "Hola Raul ¿Cómo estás?\n",
            "Hola Uriel ¿Cómo estás?\n",
            "Hola Ruth ¿Cómo estás?\n"
          ]
        }
      ],
      "source": [
        "for estudiante in estudiantes:\n",
        "    print(\"Hola\", estudiante, \"¿Cómo estás?\")\n",
        "    if estudiante in [\"Uriel\", \"Ruth\"]:\n",
        "        pass"
      ]
    },
    {
      "cell_type": "code",
      "execution_count": 48,
      "metadata": {
        "colab": {
          "base_uri": "https://localhost:8080/"
        },
        "id": "EzfyZKtDDI56",
        "outputId": "f6a73430-d343-4cda-e0b6-f1523dc8d3e0"
      },
      "outputs": [
        {
          "output_type": "stream",
          "name": "stdout",
          "text": [
            "Hola Arturo ¿Cómo estás?\n",
            "Hola Sonia ¿Cómo estás?\n",
            "Hola Diana ¿Cómo estás?\n",
            "Hola Maria ¿Cómo estás?\n",
            "Hola Raul ¿Cómo estás?\n",
            "Hola Uriel ¿Cómo estás?\n",
            "Hola Uriel ¿Eres oyente?\n",
            "Hola Ruth ¿Cómo estás?\n",
            "Hola Ruth ¿Eres oyente?\n"
          ]
        }
      ],
      "source": [
        "for estudiante in estudiantes:\n",
        "    print(\"Hola\", estudiante, \"¿Cómo estás?\")\n",
        "    if estudiante in [\"Uriel\", \"Ruth\"]:\n",
        "        print(\"Hola\", estudiante, \"¿Eres oyente?\")"
      ]
    }
  ],
  "metadata": {
    "kernelspec": {
      "display_name": "Python 3",
      "language": "python",
      "name": "python3"
    },
    "language_info": {
      "codemirror_mode": {
        "name": "ipython",
        "version": 3
      },
      "file_extension": ".py",
      "mimetype": "text/x-python",
      "name": "python",
      "nbconvert_exporter": "python",
      "pygments_lexer": "ipython3",
      "version": "3.9.2"
    },
    "org": null,
    "colab": {
      "provenance": []
    }
  },
  "nbformat": 4,
  "nbformat_minor": 0
}