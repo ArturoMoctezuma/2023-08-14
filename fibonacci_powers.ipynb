{
  "nbformat": 4,
  "nbformat_minor": 0,
  "metadata": {
    "colab": {
      "provenance": [],
      "authorship_tag": "ABX9TyOE62xK067hN7dcQaXqUnR1",
      "include_colab_link": true
    },
    "kernelspec": {
      "name": "python3",
      "display_name": "Python 3"
    },
    "language_info": {
      "name": "python"
    }
  },
  "cells": [
    {
      "cell_type": "markdown",
      "metadata": {
        "id": "view-in-github",
        "colab_type": "text"
      },
      "source": [
        "<a href=\"https://colab.research.google.com/github/ArturoMoctezuma/2023-08-14/blob/main/fibonacci_powers.ipynb\" target=\"_parent\"><img src=\"https://colab.research.google.com/assets/colab-badge.svg\" alt=\"Open In Colab\"/></a>"
      ]
    },
    {
      "cell_type": "code",
      "execution_count": 1,
      "metadata": {
        "colab": {
          "base_uri": "https://localhost:8080/"
        },
        "id": "FW8AR4PpI0y7",
        "outputId": "6d837b2f-3fc7-4234-e97f-6079fac2ef09"
      },
      "outputs": [
        {
          "output_type": "execute_result",
          "data": {
            "text/plain": [
              "[0, 1, 1, 8]"
            ]
          },
          "metadata": {},
          "execution_count": 1
        }
      ],
      "source": [
        "def es_potencia(n, pot):\n",
        "    return int(n**(1/pot)) ** pot == n\n",
        "\n",
        "def potencias_fibonacci(n, pot=2):\n",
        "    if pot is None:\n",
        "      pot = 2\n",
        "    fibs = []\n",
        "    a, b = 0, 1\n",
        "    while a < n:\n",
        "        if es_potencia(a, pot):\n",
        "            fibs.append(a)\n",
        "        a, b = b, a+b\n",
        "    return fibs\n",
        "\n",
        "potencias_fibonacci(10**20,3)"
      ]
    },
    {
      "cell_type": "markdown",
      "source": [
        "¿Que numeros de fibonacci son menores que un cierto \"n\" son potencias perfectas?\n",
        "\n",
        "Los unicos numeros de fibonacci que son merones que n dado, se obtienen por medio del pregrama.\n",
        "\n",
        "\n",
        "En el artículo \"Classical and modular approaches to exponential Diophantine equations I. Fibonacci and Lucas perfect powers\", los autores Yann Bugeaud, Maurice Mignotte y Samir Siksek utilizan un enfoque combinado de técnicas clásicas y modulares para estudiar las potencias perfectas en la sucesión de Fibonacci.\n",
        "\n",
        "En primer lugar, los autores dan nuevas mejoras a los límites para las formas lineales en tres logaritmos. Luego, aplican un enfoque modular basado en la teoría de curvas elípticas para demostrar que las únicas potencias perfectas en la sucesión de Fibonacci son 0,1,8 y 144.\n",
        "\n",
        "https://annals.math.princeton.edu/wp-content/uploads/annals-v163-n3-p05.pdf\n"
      ],
      "metadata": {
        "id": "WwRZZT3jJeSI"
      }
    }
  ]
}